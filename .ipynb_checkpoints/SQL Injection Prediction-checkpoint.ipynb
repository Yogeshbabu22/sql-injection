{
 "cells": [
  {
   "cell_type": "markdown",
   "id": "03825686",
   "metadata": {},
   "source": [
    "# SQL Injection ML Model"
   ]
  },
  {
   "cell_type": "code",
   "execution_count": 1,
   "id": "27f83a6e",
   "metadata": {},
   "outputs": [],
   "source": [
    "import pandas as pd\n",
    "from sklearn.tree import DecisionTreeClassifier\n",
    "from sklearn.feature_extraction.text import CountVectorizer\n",
    "from sklearn.model_selection import train_test_split\n",
    "from sklearn.metrics import accuracy_score, recall_score, precision_score, f1_score, confusion_matrix"
   ]
  },
  {
   "cell_type": "markdown",
   "id": "027a9406",
   "metadata": {},
   "source": [
    "### Loading the Dataset "
   ]
  },
  {
   "cell_type": "code",
   "execution_count": 2,
   "id": "835dbf4a",
   "metadata": {},
   "outputs": [
    {
     "name": "stdout",
     "output_type": "stream",
     "text": [
      "30919\n"
     ]
    },
    {
     "data": {
      "text/html": [
       "<div>\n",
       "<style scoped>\n",
       "    .dataframe tbody tr th:only-of-type {\n",
       "        vertical-align: middle;\n",
       "    }\n",
       "\n",
       "    .dataframe tbody tr th {\n",
       "        vertical-align: top;\n",
       "    }\n",
       "\n",
       "    .dataframe thead th {\n",
       "        text-align: right;\n",
       "    }\n",
       "</style>\n",
       "<table border=\"1\" class=\"dataframe\">\n",
       "  <thead>\n",
       "    <tr style=\"text-align: right;\">\n",
       "      <th></th>\n",
       "      <th>Query</th>\n",
       "      <th>Label</th>\n",
       "    </tr>\n",
       "  </thead>\n",
       "  <tbody>\n",
       "    <tr>\n",
       "      <th>0</th>\n",
       "      <td>\" or pg_sleep  (  __TIME__  )  --</td>\n",
       "      <td>1</td>\n",
       "    </tr>\n",
       "    <tr>\n",
       "      <th>1</th>\n",
       "      <td>create user name identified by pass123 tempora...</td>\n",
       "      <td>1</td>\n",
       "    </tr>\n",
       "    <tr>\n",
       "      <th>2</th>\n",
       "      <td>AND 1  =  utl_inaddr.get_host_address   (    ...</td>\n",
       "      <td>1</td>\n",
       "    </tr>\n",
       "    <tr>\n",
       "      <th>3</th>\n",
       "      <td>select * from users where id  =  '1' or @ @1 ...</td>\n",
       "      <td>1</td>\n",
       "    </tr>\n",
       "    <tr>\n",
       "      <th>4</th>\n",
       "      <td>select * from users where id  =  1 or 1#\"  ( ...</td>\n",
       "      <td>1</td>\n",
       "    </tr>\n",
       "  </tbody>\n",
       "</table>\n",
       "</div>"
      ],
      "text/plain": [
       "                                               Query  Label\n",
       "0                  \" or pg_sleep  (  __TIME__  )  --      1\n",
       "1  create user name identified by pass123 tempora...      1\n",
       "2   AND 1  =  utl_inaddr.get_host_address   (    ...      1\n",
       "3   select * from users where id  =  '1' or @ @1 ...      1\n",
       "4   select * from users where id  =  1 or 1#\"  ( ...      1"
      ]
     },
     "execution_count": 2,
     "metadata": {},
     "output_type": "execute_result"
    }
   ],
   "source": [
    "data = pd.read_csv('Modified_SQL_Dataset.csv')\n",
    "print(len(data))\n",
    "data.head()"
   ]
  },
  {
   "cell_type": "markdown",
   "id": "74eb2c64",
   "metadata": {},
   "source": [
    "### Label "
   ]
  },
  {
   "cell_type": "code",
   "execution_count": 3,
   "id": "c1557f5a",
   "metadata": {},
   "outputs": [
    {
     "data": {
      "text/plain": [
       "array([1, 0], dtype=int64)"
      ]
     },
     "execution_count": 3,
     "metadata": {},
     "output_type": "execute_result"
    }
   ],
   "source": [
    "label = data.iloc[:,1].unique()\n",
    "label"
   ]
  },
  {
   "cell_type": "markdown",
   "id": "cacdd4e8",
   "metadata": {},
   "source": [
    "### Injections"
   ]
  },
  {
   "cell_type": "code",
   "execution_count": 4,
   "id": "423bc8b6",
   "metadata": {},
   "outputs": [
    {
     "name": "stdout",
     "output_type": "stream",
     "text": [
      "len =  11382\n"
     ]
    },
    {
     "data": {
      "text/html": [
       "<div>\n",
       "<style scoped>\n",
       "    .dataframe tbody tr th:only-of-type {\n",
       "        vertical-align: middle;\n",
       "    }\n",
       "\n",
       "    .dataframe tbody tr th {\n",
       "        vertical-align: top;\n",
       "    }\n",
       "\n",
       "    .dataframe thead th {\n",
       "        text-align: right;\n",
       "    }\n",
       "</style>\n",
       "<table border=\"1\" class=\"dataframe\">\n",
       "  <thead>\n",
       "    <tr style=\"text-align: right;\">\n",
       "      <th></th>\n",
       "      <th>Query</th>\n",
       "      <th>Label</th>\n",
       "    </tr>\n",
       "  </thead>\n",
       "  <tbody>\n",
       "    <tr>\n",
       "      <th>0</th>\n",
       "      <td>\" or pg_sleep  (  __TIME__  )  --</td>\n",
       "      <td>1</td>\n",
       "    </tr>\n",
       "    <tr>\n",
       "      <th>1</th>\n",
       "      <td>create user name identified by pass123 tempora...</td>\n",
       "      <td>1</td>\n",
       "    </tr>\n",
       "    <tr>\n",
       "      <th>2</th>\n",
       "      <td>AND 1  =  utl_inaddr.get_host_address   (    ...</td>\n",
       "      <td>1</td>\n",
       "    </tr>\n",
       "    <tr>\n",
       "      <th>3</th>\n",
       "      <td>select * from users where id  =  '1' or @ @1 ...</td>\n",
       "      <td>1</td>\n",
       "    </tr>\n",
       "    <tr>\n",
       "      <th>4</th>\n",
       "      <td>select * from users where id  =  1 or 1#\"  ( ...</td>\n",
       "      <td>1</td>\n",
       "    </tr>\n",
       "    <tr>\n",
       "      <th>...</th>\n",
       "      <td>...</td>\n",
       "      <td>...</td>\n",
       "    </tr>\n",
       "    <tr>\n",
       "      <th>19330</th>\n",
       "      <td>â or 1  =  1 --</td>\n",
       "      <td>1</td>\n",
       "    </tr>\n",
       "    <tr>\n",
       "      <th>19331</th>\n",
       "      <td>or 'x'  =  'x</td>\n",
       "      <td>1</td>\n",
       "    </tr>\n",
       "    <tr>\n",
       "      <th>19332</th>\n",
       "      <td>29%</td>\n",
       "      <td>1</td>\n",
       "    </tr>\n",
       "    <tr>\n",
       "      <th>19333</th>\n",
       "      <td>28%</td>\n",
       "      <td>1</td>\n",
       "    </tr>\n",
       "    <tr>\n",
       "      <th>19334</th>\n",
       "      <td>or 3  =  3 --</td>\n",
       "      <td>1</td>\n",
       "    </tr>\n",
       "  </tbody>\n",
       "</table>\n",
       "<p>11382 rows × 2 columns</p>\n",
       "</div>"
      ],
      "text/plain": [
       "                                                   Query  Label\n",
       "0                      \" or pg_sleep  (  __TIME__  )  --      1\n",
       "1      create user name identified by pass123 tempora...      1\n",
       "2       AND 1  =  utl_inaddr.get_host_address   (    ...      1\n",
       "3       select * from users where id  =  '1' or @ @1 ...      1\n",
       "4       select * from users where id  =  1 or 1#\"  ( ...      1\n",
       "...                                                  ...    ...\n",
       "19330                                  â or 1  =  1 --      1\n",
       "19331                                      or 'x'  =  'x      1\n",
       "19332                                                29%      1\n",
       "19333                                                28%      1\n",
       "19334                                      or 3  =  3 --      1\n",
       "\n",
       "[11382 rows x 2 columns]"
      ]
     },
     "execution_count": 4,
     "metadata": {},
     "output_type": "execute_result"
    }
   ],
   "source": [
    "injected_text = data[data.iloc[:,1]==label[0]]\n",
    "print(\"len = \",len(injected_text))\n",
    "injected_text"
   ]
  },
  {
   "cell_type": "markdown",
   "id": "8390f378",
   "metadata": {},
   "source": [
    "### Data Cleaning "
   ]
  },
  {
   "cell_type": "code",
   "execution_count": 5,
   "id": "3aba1449",
   "metadata": {},
   "outputs": [
    {
     "name": "stdout",
     "output_type": "stream",
     "text": [
      "                                              Query  Label\n",
      "11330                                     99745017c      0\n",
      "11331                                      ejerci78      0\n",
      "11332                                         47209      0\n",
      "11333           calle valencia de don juan 161, 7?d      0\n",
      "11334                                        b3r3al      0\n",
      "...                                             ...    ...\n",
      "30914         DELETE FROM door WHERE grow = 'small'      0\n",
      "30915                          DELETE FROM tomorrow      0\n",
      "30916                  SELECT wide ( s )  FROM west      0\n",
      "30917  SELECT * FROM  ( SELECT slide FROM breath )       0\n",
      "30918                      SELECT TOP 3 * FROM race      0\n",
      "\n",
      "[19537 rows x 2 columns]\n",
      "clean text:  19537\n"
     ]
    }
   ],
   "source": [
    "clean_text = data[data.iloc[:,1]==label[1]]\n",
    "print(clean_text)\n",
    "print('clean text: ',len(clean_text))"
   ]
  },
  {
   "cell_type": "code",
   "execution_count": 6,
   "id": "886d5941",
   "metadata": {},
   "outputs": [],
   "source": [
    "vectorizer = CountVectorizer(token_pattern=r'\\b\\w+\\b')\n",
    "\n",
    "X = vectorizer.fit_transform(data['Query'])\n",
    "y = data['Label']"
   ]
  },
  {
   "cell_type": "code",
   "execution_count": 7,
   "id": "5a12c11e",
   "metadata": {},
   "outputs": [
    {
     "name": "stdout",
     "output_type": "stream",
     "text": [
      "  (0, 12062)\t1\n",
      "  (0, 23058)\t1\n",
      "  (0, 18116)\t1\n",
      "  (0, 15441)\t1\n",
      "  (0, 10965)\t1\n",
      "  (0, 19162)\t1\n",
      "  (0, 22273)\t1\n",
      "  (0, 22125)\t2\n",
      "  (0, 22269)\t1\n",
      "  (0, 12425)\t1\n",
      "  (0, 23066)\t1 create user name identified by pass123 temporary tablespace temp default tablespace users;\n"
     ]
    }
   ],
   "source": [
    "print(X[1], data.iloc[1][0])"
   ]
  },
  {
   "cell_type": "markdown",
   "id": "cd62544c",
   "metadata": {},
   "source": [
    "### Spliting Into Training & Testing Data"
   ]
  },
  {
   "cell_type": "code",
   "execution_count": 8,
   "id": "e3d9cd9d",
   "metadata": {},
   "outputs": [],
   "source": [
    "X_train, X_test, y_train, y_test = train_test_split(X, y, test_size=0.2, random_state=42)"
   ]
  },
  {
   "cell_type": "markdown",
   "id": "0f191c33",
   "metadata": {},
   "source": [
    "## Decision Tree Classifier"
   ]
  },
  {
   "cell_type": "code",
   "execution_count": 9,
   "id": "4eb90a2e",
   "metadata": {},
   "outputs": [
    {
     "name": "stdout",
     "output_type": "stream",
     "text": [
      "accuracy: 81.47%\n",
      "recall: 99.69%\n",
      "precision: 66.73%\n",
      "F1-score: 79.94%\n",
      "True negative rate: 70.74%\n",
      "True positive rate: 99.69%\n"
     ]
    }
   ],
   "source": [
    "clf = DecisionTreeClassifier(random_state=42)\n",
    "\n",
    "clf.fit(X_train, y_train)\n",
    "\n",
    "y_pred = clf.predict(X_test)\n",
    "\n",
    "accuracy = accuracy_score(y_test, y_pred)\n",
    "recall = recall_score(y_test, y_pred)\n",
    "precision = precision_score(y_test, y_pred)\n",
    "f1 = f1_score(y_test, y_pred)\n",
    "tn, fp, fn, tp = confusion_matrix(y_test, y_pred).ravel()\n",
    "\n",
    "print(\"accuracy: {:.2f}%\".format(accuracy * 100))\n",
    "print(\"recall: {:.2f}%\".format(recall * 100))\n",
    "print(\"precision: {:.2f}%\".format(precision * 100))\n",
    "print(\"F1-score: {:.2f}%\".format(f1 * 100))\n",
    "print(\"True negative rate: {:.2f}%\".format(tn / (tn + fp) * 100))\n",
    "print(\"True positive rate: {:.2f}%\".format(tp / (tp + fn) * 100))"
   ]
  },
  {
   "cell_type": "markdown",
   "id": "6fc5c69d",
   "metadata": {},
   "source": [
    "## Support Vector Machine"
   ]
  },
  {
   "cell_type": "code",
   "execution_count": 10,
   "id": "fc24ce77",
   "metadata": {},
   "outputs": [
    {
     "name": "stdout",
     "output_type": "stream",
     "text": [
      "accuracy: 99.48%\n",
      "recall: 99.00%\n",
      "precision: 99.60%\n",
      "F1-score: 99.30%\n",
      "True negative rate: 99.77%\n",
      "True positive rate: 99.00%\n"
     ]
    }
   ],
   "source": [
    "from sklearn.svm import SVC\n",
    "\n",
    "clf = SVC(kernel='linear', random_state=42)\n",
    "\n",
    "\n",
    "clf.fit(X_train, y_train)\n",
    "\n",
    "\n",
    "y_pred = clf.predict(X_test)\n",
    "\n",
    "accuracy = accuracy_score(y_test, y_pred)\n",
    "recall = recall_score(y_test, y_pred)\n",
    "precision = precision_score(y_test, y_pred)\n",
    "f1 = f1_score(y_test, y_pred)\n",
    "tn, fp, fn, tp = confusion_matrix(y_test, y_pred).ravel()\n",
    "\n",
    "print(\"accuracy: {:.2f}%\".format(accuracy * 100))\n",
    "print(\"recall: {:.2f}%\".format(recall * 100))\n",
    "print(\"precision: {:.2f}%\".format(precision * 100))\n",
    "print(\"F1-score: {:.2f}%\".format(f1 * 100))\n",
    "print(\"True negative rate: {:.2f}%\".format(tn / (tn + fp) * 100))\n",
    "print(\"True positive rate: {:.2f}%\".format(tp / (tp + fn) * 100))"
   ]
  },
  {
   "cell_type": "markdown",
   "id": "b68286ab",
   "metadata": {},
   "source": [
    "## LSTM - Long Short Term Memory"
   ]
  },
  {
   "cell_type": "code",
   "execution_count": null,
   "id": "74c85b55",
   "metadata": {},
   "outputs": [
    {
     "name": "stdout",
     "output_type": "stream",
     "text": [
      "Epoch 1/10\n",
      "773/773 [==============================] - 64s 79ms/step - loss: 0.0725 - accuracy: 0.9753\n",
      "Epoch 2/10\n",
      "690/773 [=========================>....] - ETA: 7s - loss: 0.0212 - accuracy: 0.9950"
     ]
    }
   ],
   "source": [
    "import pandas as pd\n",
    "from tensorflow.keras.preprocessing.text import Tokenizer\n",
    "from tensorflow.keras.preprocessing.sequence import pad_sequences\n",
    "from tensorflow.keras.models import Sequential\n",
    "from tensorflow.keras.layers import Embedding, LSTM, Dense, Dropout\n",
    "from sklearn.model_selection import train_test_split\n",
    "from sklearn.metrics import accuracy_score, recall_score, precision_score, f1_score, confusion_matrix\n",
    "import numpy as np\n",
    "\n",
    "data = pd.read_csv('Modified_SQL_Dataset.csv')\n",
    "\n",
    "MAX_WORDS = 10000\n",
    "MAX_LEN = 100\n",
    "\n",
    "tokenizer = Tokenizer(num_words=MAX_WORDS)\n",
    "tokenizer.fit_on_texts(data['Query'])\n",
    "sequences = tokenizer.texts_to_sequences(data['Query'])\n",
    "\n",
    "X = pad_sequences(sequences, maxlen=MAX_LEN)\n",
    "\n",
    "y = data['Label']\n",
    "X_train, X_test, y_train, y_test = train_test_split(X, y, test_size=0.2, random_state=42)\n",
    "\n",
    "model = Sequential()\n",
    "model.add(Embedding(MAX_WORDS, 128, input_length=MAX_LEN))\n",
    "model.add(LSTM(64, dropout=0.2, recurrent_dropout=0.2))\n",
    "model.add(Dense(1, activation='sigmoid'))\n",
    "model.compile(loss='binary_crossentropy', optimizer='adam', metrics=['accuracy'])\n",
    "\n",
    "# tranning\n",
    "model.fit(X_train, y_train, epochs=10, batch_size=32)\n",
    "\n",
    "# testing\n",
    "y_pred = model.predict(X_test)\n",
    "y_pred_classes = np.argmax(y_pred, axis=1)\n",
    "\n",
    "#data collection\n",
    "accuracy = accuracy_score(y_test, y_pred_classes)\n",
    "recall = recall_score(y_test, y_pred_classes, zero_division=1)\n",
    "precision = precision_score(y_test, y_pred_classes, zero_division=1)\n",
    "f1 = f1_score(y_test, y_pred_classes, zero_division=1)\n",
    "tn, fp, fn, tp = confusion_matrix(y_test, y_pred_classes).ravel()\n",
    "\n",
    "# Evaluation\n",
    "print(\"Accuracy: {:.2f}%\".format(accuracy * 100))\n",
    "print(\"recall: {:.2f}%\".format(recall * 100))\n",
    "print(\"precision: {:.2f}%\".format(precision * 100))\n",
    "print(\"F1-score: {:.2f}%\".format(f1 * 100))\n",
    "print(\"True Positive rate: {:.2f}%\".format(tn / (tn + fp) * 100))\n",
    "print(\"True Negative rate: {:.2f}%\".format(tp / (tp + fn) * 100))"
   ]
  },
  {
   "cell_type": "markdown",
   "id": "1ef3d7aa",
   "metadata": {},
   "source": [
    "## Linear Regression"
   ]
  },
  {
   "cell_type": "code",
   "execution_count": null,
   "id": "08b3bda6-8091-41bf-a47d-1422cfaee78c",
   "metadata": {},
   "outputs": [],
   "source": [
    "from sklearn.model_selection import train_test_split\n",
    "from sklearn.linear_model import LinearRegression\n",
    "from sklearn.metrics import mean_squared_error, r2_score\n",
    "\n",
    "# Assuming X_train, X_test, y_train, y_test are already defined and loaded with your dataset\n",
    "\n",
    "# Split the dataset into training and testing sets\n",
    "X_train, X_test, y_train, y_test = train_test_split(X, y, test_size=0.2, random_state=42)\n",
    "\n",
    "# Initialize and fit the linear regression model\n",
    "regressor = LinearRegression()\n",
    "regressor.fit(X_train, y_train)\n",
    "\n",
    "# Predict the target variable on the testing set\n",
    "y_pred = regressor.predict(X_test)\n",
    "\n",
    "# Calculate evaluation metrics\n",
    "mse = mean_squared_error(y_test, y_pred)\n",
    "r2 = r2_score(y_test, y_pred)\n",
    "\n",
    "print(\"Mean Squared Error: {:.2f}\".format(mse))\n",
    "print(\"R-squared: {:.2f}\".format(r2))\n"
   ]
  },
  {
   "cell_type": "markdown",
   "id": "47aa48bb",
   "metadata": {},
   "source": [
    "## Logistic Regression"
   ]
  },
  {
   "cell_type": "code",
   "execution_count": null,
   "id": "619653e4-b0b3-4727-9157-f79d2c45c619",
   "metadata": {},
   "outputs": [],
   "source": [
    "from sklearn.model_selection import train_test_split\n",
    "from sklearn.linear_model import LogisticRegression\n",
    "from sklearn.metrics import accuracy_score, precision_score, recall_score, f1_score, confusion_matrix\n",
    "\n",
    "# Assuming X_train, X_test, y_train, y_test are already defined and loaded with your dataset\n",
    "\n",
    "# Split the dataset into training and testing sets\n",
    "X_train, X_test, y_train, y_test = train_test_split(X, y, test_size=0.2, random_state=42)\n",
    "\n",
    "# Initialize and fit the logistic regression model\n",
    "clf = LogisticRegression(random_state=42)\n",
    "clf.fit(X_train, y_train)\n",
    "\n",
    "# Predict the target variable on the testing set\n",
    "y_pred = clf.predict(X_test)\n",
    "\n",
    "# Calculate evaluation metrics\n",
    "accuracy = accuracy_score(y_test, y_pred)\n",
    "precision = precision_score(y_test, y_pred)\n",
    "recall = recall_score(y_test, y_pred)\n",
    "f1 = f1_score(y_test, y_pred)\n",
    "conf_matrix = confusion_matrix(y_test, y_pred)\n",
    "tn, fp, fn, tp = conf_matrix.ravel()\n",
    "\n",
    "print(\"Accuracy: {:.2f}%\".format(accuracy * 100))\n",
    "print(\"Precision: {:.2f}%\".format(precision * 100))\n",
    "print(\"Recall: {:.2f}%\".format(recall * 100))\n",
    "print(\"F1 Score: {:.2f}%\".format(f1 * 100))\n",
    "print(\"True negative rate: {:.2f}%\".format(tn / (tn + fp) * 100))\n",
    "print(\"True positive rate: {:.2f}%\".format(tp / (tp + fn) * 100))\n",
    "print(\"Confusion Matrix:\")\n",
    "print(conf_matrix)\n"
   ]
  },
  {
   "cell_type": "markdown",
   "id": "e6ff2d5b",
   "metadata": {},
   "source": [
    "## Random Forest "
   ]
  },
  {
   "cell_type": "code",
   "execution_count": null,
   "id": "f0c68a40",
   "metadata": {},
   "outputs": [],
   "source": [
    "from sklearn.model_selection import train_test_split\n",
    "from sklearn.ensemble import RandomForestClassifier\n",
    "from sklearn.metrics import accuracy_score, precision_score, recall_score, f1_score, confusion_matrix\n",
    "\n",
    "# Assuming X_train, X_test, y_train, y_test are already defined and loaded with your dataset\n",
    "\n",
    "# Split the dataset into training and testing sets\n",
    "X_train, X_test, y_train, y_test = train_test_split(X, y, test_size=0.2, random_state=42)\n",
    "\n",
    "# Initialize and fit the Random Forest classifier\n",
    "clf = RandomForestClassifier(random_state=42)\n",
    "clf.fit(X_train, y_train)\n",
    "\n",
    "# Predict the target variable on the testing set\n",
    "y_pred = clf.predict(X_test)\n",
    "\n",
    "# Calculate evaluation metrics\n",
    "accuracy = accuracy_score(y_test, y_pred)\n",
    "precision = precision_score(y_test, y_pred)\n",
    "recall = recall_score(y_test, y_pred)\n",
    "f1 = f1_score(y_test, y_pred)\n",
    "conf_matrix = confusion_matrix(y_test, y_pred)\n",
    "tn, fp, fn, tp = conf_matrix.ravel()\n",
    "\n",
    "print(\"Accuracy: {:.2f}%\".format(accuracy * 100))\n",
    "print(\"Precision: {:.2f}%\".format(precision * 100))\n",
    "print(\"Recall: {:.2f}%\".format(recall * 100))\n",
    "print(\"F1 Score: {:.2f}%\".format(f1 * 100))\n",
    "print(\"True negative rate: {:.2f}%\".format(tn / (tn + fp) * 100))\n",
    "print(\"True positive rate: {:.2f}%\".format(tp / (tp + fn) * 100))\n",
    "print(\"Confusion Matrix:\")\n",
    "print(conf_matrix)\n"
   ]
  }
 ],
 "metadata": {
  "kernelspec": {
   "display_name": "Python 3 (ipykernel)",
   "language": "python",
   "name": "python3"
  },
  "language_info": {
   "codemirror_mode": {
    "name": "ipython",
    "version": 3
   },
   "file_extension": ".py",
   "mimetype": "text/x-python",
   "name": "python",
   "nbconvert_exporter": "python",
   "pygments_lexer": "ipython3",
   "version": "3.9.7"
  }
 },
 "nbformat": 4,
 "nbformat_minor": 5
}
